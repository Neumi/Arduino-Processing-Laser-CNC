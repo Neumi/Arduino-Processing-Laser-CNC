{
  "nbformat": 4,
  "nbformat_minor": 0,
  "metadata": {
    "colab": {
      "name": "captch-ml-solver.ipynb",
      "version": "0.3.2",
      "provenance": [],
      "collapsed_sections": [],
      "include_colab_link": true
    },
    "kernelspec": {
      "name": "python3",
      "display_name": "Python 3"
    },
    "accelerator": "GPU"
  },
  "cells": [
    {
      "cell_type": "markdown",
      "metadata": {
        "id": "view-in-github",
        "colab_type": "text"
      },
      "source": [
        "<a href=\"https://colab.research.google.com/github/Neumi/Arduino-Processing-Laser-CNC/blob/master/captch_ml_solver.ipynb\" target=\"_parent\"><img src=\"https://colab.research.google.com/assets/colab-badge.svg\" alt=\"Open In Colab\"/></a>"
      ]
    },
    {
      "metadata": {
        "id": "rOLbt7D2BF1y",
        "colab_type": "code",
        "outputId": "6b39068d-fd85-40e6-d336-e67e9bf1bde6",
        "colab": {
          "base_uri": "https://localhost:8080/",
          "height": 326
        }
      },
      "cell_type": "code",
      "source": [
        "!pip3 install claptcha\n",
        "!pip3 install image_slicer"
      ],
      "execution_count": 1,
      "outputs": [
        {
          "output_type": "stream",
          "text": [
            "Collecting claptcha\n",
            "  Downloading https://files.pythonhosted.org/packages/5c/87/1464bcc3257bc4e9acbd48346366e3f00f7b4f688843799b2841a9b92332/claptcha-0.3.3-py3-none-any.whl\n",
            "Requirement already satisfied: Pillow in /usr/local/lib/python3.6/dist-packages (from claptcha) (4.3.0)\n",
            "Requirement already satisfied: olefile in /usr/local/lib/python3.6/dist-packages (from Pillow->claptcha) (0.46)\n",
            "Installing collected packages: claptcha\n",
            "Successfully installed claptcha-0.3.3\n",
            "Collecting image_slicer\n",
            "\u001b[?25l  Downloading https://files.pythonhosted.org/packages/8b/95/7b99cafa4be846f270c515cbeb090dd8a7425e4491b46c4342ad66f750f5/image_slicer-0.2.0.tar.gz (88kB)\n",
            "\u001b[K    100% |████████████████████████████████| 92kB 6.0MB/s \n",
            "\u001b[?25hRequirement already satisfied: Pillow>=4.0.0 in /usr/local/lib/python3.6/dist-packages (from image_slicer) (4.3.0)\n",
            "Requirement already satisfied: olefile in /usr/local/lib/python3.6/dist-packages (from Pillow>=4.0.0->image_slicer) (0.46)\n",
            "Building wheels for collected packages: image-slicer\n",
            "  Building wheel for image-slicer (setup.py) ... \u001b[?25ldone\n",
            "\u001b[?25h  Stored in directory: /root/.cache/pip/wheels/9b/d5/17/dd822b462a190ec86ad9fd43b455627a2265bb2dfa58af3841\n",
            "Successfully built image-slicer\n",
            "Installing collected packages: image-slicer\n",
            "Successfully installed image-slicer-0.2.0\n"
          ],
          "name": "stdout"
        }
      ]
    },
    {
      "metadata": {
        "id": "9jqN1g0rWvb9",
        "colab_type": "code",
        "outputId": "4d86f80d-69e5-421d-847b-016ff1e0383b",
        "colab": {
          "base_uri": "https://localhost:8080/",
          "height": 1057
        }
      },
      "cell_type": "code",
      "source": [
        "!curl -s https://course.fast.ai/setup/colab | bash\n",
        "!pip install git+https://github.com/fastai/fastai.git\n",
        "!curl -LJO https://raw.githubusercontent.com/lepture/captcha/master/captcha/data/DroidSansMono.ttf"
      ],
      "execution_count": 2,
      "outputs": [
        {
          "output_type": "stream",
          "text": [
            "Updating fastai...\n",
            "Done.\n",
            "Collecting git+https://github.com/fastai/fastai.git\n",
            "  Cloning https://github.com/fastai/fastai.git to /tmp/pip-req-build-rzy_w3_u\n",
            "Requirement already satisfied: bottleneck in /usr/local/lib/python3.6/dist-packages (from fastai==1.0.52.dev0) (1.2.1)\n",
            "Requirement already satisfied: fastprogress>=0.1.19 in /usr/local/lib/python3.6/dist-packages (from fastai==1.0.52.dev0) (0.1.21)\n",
            "Requirement already satisfied: beautifulsoup4 in /usr/local/lib/python3.6/dist-packages (from fastai==1.0.52.dev0) (4.6.3)\n",
            "Requirement already satisfied: matplotlib in /usr/local/lib/python3.6/dist-packages (from fastai==1.0.52.dev0) (3.0.3)\n",
            "Requirement already satisfied: numexpr in /usr/local/lib/python3.6/dist-packages (from fastai==1.0.52.dev0) (2.6.9)\n",
            "Requirement already satisfied: numpy>=1.15 in /usr/local/lib/python3.6/dist-packages (from fastai==1.0.52.dev0) (1.16.3)\n",
            "Requirement already satisfied: nvidia-ml-py3 in /usr/local/lib/python3.6/dist-packages (from fastai==1.0.52.dev0) (7.352.0)\n",
            "Requirement already satisfied: pandas in /usr/local/lib/python3.6/dist-packages (from fastai==1.0.52.dev0) (0.24.2)\n",
            "Requirement already satisfied: packaging in /usr/local/lib/python3.6/dist-packages (from fastai==1.0.52.dev0) (19.0)\n",
            "Requirement already satisfied: Pillow in /usr/local/lib/python3.6/dist-packages (from fastai==1.0.52.dev0) (4.3.0)\n",
            "Requirement already satisfied: pyyaml in /usr/local/lib/python3.6/dist-packages (from fastai==1.0.52.dev0) (3.13)\n",
            "Requirement already satisfied: requests in /usr/local/lib/python3.6/dist-packages (from fastai==1.0.52.dev0) (2.21.0)\n",
            "Requirement already satisfied: scipy in /usr/local/lib/python3.6/dist-packages (from fastai==1.0.52.dev0) (1.2.1)\n",
            "Requirement already satisfied: torch>=1.0.0 in /usr/local/lib/python3.6/dist-packages (from fastai==1.0.52.dev0) (1.0.1.post2)\n",
            "Requirement already satisfied: typing in /usr/local/lib/python3.6/dist-packages (from fastai==1.0.52.dev0) (3.6.6)\n",
            "Requirement already satisfied: spacy>=2.0.18 in /usr/local/lib/python3.6/dist-packages (from fastai==1.0.52.dev0) (2.0.18)\n",
            "Requirement already satisfied: torchvision in /usr/local/lib/python3.6/dist-packages (from fastai==1.0.52.dev0) (0.2.2.post3)\n",
            "Requirement already satisfied: dataclasses in /usr/local/lib/python3.6/dist-packages (from fastai==1.0.52.dev0) (0.6)\n",
            "Requirement already satisfied: pyparsing!=2.0.4,!=2.1.2,!=2.1.6,>=2.0.1 in /usr/local/lib/python3.6/dist-packages (from matplotlib->fastai==1.0.52.dev0) (2.4.0)\n",
            "Requirement already satisfied: cycler>=0.10 in /usr/local/lib/python3.6/dist-packages (from matplotlib->fastai==1.0.52.dev0) (0.10.0)\n",
            "Requirement already satisfied: kiwisolver>=1.0.1 in /usr/local/lib/python3.6/dist-packages (from matplotlib->fastai==1.0.52.dev0) (1.0.1)\n",
            "Requirement already satisfied: python-dateutil>=2.1 in /usr/local/lib/python3.6/dist-packages (from matplotlib->fastai==1.0.52.dev0) (2.5.3)\n",
            "Requirement already satisfied: pytz>=2011k in /usr/local/lib/python3.6/dist-packages (from pandas->fastai==1.0.52.dev0) (2018.9)\n",
            "Requirement already satisfied: six in /usr/local/lib/python3.6/dist-packages (from packaging->fastai==1.0.52.dev0) (1.12.0)\n",
            "Requirement already satisfied: olefile in /usr/local/lib/python3.6/dist-packages (from Pillow->fastai==1.0.52.dev0) (0.46)\n",
            "Requirement already satisfied: certifi>=2017.4.17 in /usr/local/lib/python3.6/dist-packages (from requests->fastai==1.0.52.dev0) (2019.3.9)\n",
            "Requirement already satisfied: chardet<3.1.0,>=3.0.2 in /usr/local/lib/python3.6/dist-packages (from requests->fastai==1.0.52.dev0) (3.0.4)\n",
            "Requirement already satisfied: urllib3<1.25,>=1.21.1 in /usr/local/lib/python3.6/dist-packages (from requests->fastai==1.0.52.dev0) (1.24.2)\n",
            "Requirement already satisfied: idna<2.9,>=2.5 in /usr/local/lib/python3.6/dist-packages (from requests->fastai==1.0.52.dev0) (2.8)\n",
            "Requirement already satisfied: dill<0.3,>=0.2 in /usr/local/lib/python3.6/dist-packages (from spacy>=2.0.18->fastai==1.0.52.dev0) (0.2.9)\n",
            "Requirement already satisfied: cymem<2.1.0,>=2.0.2 in /usr/local/lib/python3.6/dist-packages (from spacy>=2.0.18->fastai==1.0.52.dev0) (2.0.2)\n",
            "Requirement already satisfied: plac<1.0.0,>=0.9.6 in /usr/local/lib/python3.6/dist-packages (from spacy>=2.0.18->fastai==1.0.52.dev0) (0.9.6)\n",
            "Requirement already satisfied: thinc<6.13.0,>=6.12.1 in /usr/local/lib/python3.6/dist-packages (from spacy>=2.0.18->fastai==1.0.52.dev0) (6.12.1)\n",
            "Requirement already satisfied: preshed<2.1.0,>=2.0.1 in /usr/local/lib/python3.6/dist-packages (from spacy>=2.0.18->fastai==1.0.52.dev0) (2.0.1)\n",
            "Requirement already satisfied: murmurhash<1.1.0,>=0.28.0 in /usr/local/lib/python3.6/dist-packages (from spacy>=2.0.18->fastai==1.0.52.dev0) (1.0.2)\n",
            "Requirement already satisfied: ujson>=1.35 in /usr/local/lib/python3.6/dist-packages (from spacy>=2.0.18->fastai==1.0.52.dev0) (1.35)\n",
            "Requirement already satisfied: regex==2018.01.10 in /usr/local/lib/python3.6/dist-packages (from spacy>=2.0.18->fastai==1.0.52.dev0) (2018.1.10)\n",
            "Requirement already satisfied: setuptools in /usr/local/lib/python3.6/dist-packages (from kiwisolver>=1.0.1->matplotlib->fastai==1.0.52.dev0) (40.9.0)\n",
            "Requirement already satisfied: cytoolz<0.10,>=0.9.0 in /usr/local/lib/python3.6/dist-packages (from thinc<6.13.0,>=6.12.1->spacy>=2.0.18->fastai==1.0.52.dev0) (0.9.0.1)\n",
            "Requirement already satisfied: wrapt<1.11.0,>=1.10.0 in /usr/local/lib/python3.6/dist-packages (from thinc<6.13.0,>=6.12.1->spacy>=2.0.18->fastai==1.0.52.dev0) (1.10.11)\n",
            "Requirement already satisfied: msgpack-numpy<0.4.4 in /usr/local/lib/python3.6/dist-packages (from thinc<6.13.0,>=6.12.1->spacy>=2.0.18->fastai==1.0.52.dev0) (0.4.3.2)\n",
            "Requirement already satisfied: msgpack<0.6.0,>=0.5.6 in /usr/local/lib/python3.6/dist-packages (from thinc<6.13.0,>=6.12.1->spacy>=2.0.18->fastai==1.0.52.dev0) (0.5.6)\n",
            "Requirement already satisfied: tqdm<5.0.0,>=4.10.0 in /usr/local/lib/python3.6/dist-packages (from thinc<6.13.0,>=6.12.1->spacy>=2.0.18->fastai==1.0.52.dev0) (4.28.1)\n",
            "Requirement already satisfied: toolz>=0.8.0 in /usr/local/lib/python3.6/dist-packages (from cytoolz<0.10,>=0.9.0->thinc<6.13.0,>=6.12.1->spacy>=2.0.18->fastai==1.0.52.dev0) (0.9.0)\n",
            "Building wheels for collected packages: fastai\n",
            "  Building wheel for fastai (setup.py) ... \u001b[?25ldone\n",
            "\u001b[?25h  Stored in directory: /tmp/pip-ephem-wheel-cache-24lp6h9j/wheels/cf/46/39/b2d08762125ed2376861976ab2c4ac30c029b86e375735d9b8\n",
            "Successfully built fastai\n",
            "Installing collected packages: fastai\n",
            "  Found existing installation: fastai 1.0.51\n",
            "    Uninstalling fastai-1.0.51:\n",
            "      Successfully uninstalled fastai-1.0.51\n",
            "Successfully installed fastai-1.0.52.dev0\n",
            "  % Total    % Received % Xferd  Average Speed   Time    Time     Time  Current\n",
            "                                 Dload  Upload   Total   Spent    Left  Speed\n",
            "100  114k  100  114k    0     0   571k      0 --:--:-- --:--:-- --:--:--  571k\n"
          ],
          "name": "stdout"
        }
      ]
    },
    {
      "metadata": {
        "id": "wWPdgpNZbMuK",
        "colab_type": "code",
        "colab": {}
      },
      "cell_type": "code",
      "source": [
        "#!/bin/bash\n",
        "!mkdir numbers\n",
        "!mkdir numbers/0\n",
        "!mkdir numbers/1\n",
        "!mkdir numbers/2\n",
        "!mkdir numbers/3\n",
        "!mkdir numbers/4\n",
        "!mkdir numbers/5\n",
        "!mkdir numbers/6\n",
        "!mkdir numbers/7\n",
        "!mkdir numbers/8\n",
        "!mkdir numbers/9\n",
        "!mkdir captchas\n",
        "!mkdir images"
      ],
      "execution_count": 0,
      "outputs": []
    },
    {
      "metadata": {
        "id": "SN-0LdiVdXPZ",
        "colab_type": "code",
        "outputId": "1f104073-8772-4264-a510-2486ba165806",
        "colab": {
          "base_uri": "https://localhost:8080/",
          "height": 34
        }
      },
      "cell_type": "code",
      "source": [
        "!rm captchas/*"
      ],
      "execution_count": 4,
      "outputs": [
        {
          "output_type": "stream",
          "text": [
            "rm: cannot remove 'captchas/*': No such file or directory\n"
          ],
          "name": "stdout"
        }
      ]
    },
    {
      "metadata": {
        "id": "2FYYb9GK8D1v",
        "colab_type": "code",
        "outputId": "f2caf0c4-fe1f-4403-cb7c-7bfbd1bd0a91",
        "colab": {
          "base_uri": "https://localhost:8080/",
          "height": 34
        }
      },
      "cell_type": "code",
      "source": [
        "from claptcha import Claptcha\n",
        "from random import choice\n",
        "from string import ascii_uppercase\n",
        "from string import digits\n",
        "from PIL import Image\n",
        "import matplotlib.pyplot as plt\n",
        "import matplotlib.image as mpimg\n",
        "import re\n",
        "import os\n",
        "import sys\n",
        "\n",
        "\n",
        "print(\"done!\")"
      ],
      "execution_count": 39,
      "outputs": [
        {
          "output_type": "stream",
          "text": [
            "done!\n"
          ],
          "name": "stdout"
        }
      ]
    },
    {
      "metadata": {
        "id": "7FJaWDl5bIXp",
        "colab_type": "code",
        "colab": {}
      },
      "cell_type": "code",
      "source": [
        "captchasDir = 'captchas/'\n",
        "imgXorigin = 200\n",
        "imgYorigin = 80\n",
        "offset = 15\n",
        "imgX = imgXorigin - (2 * offset)\n",
        "imgY = imgYorigin\n",
        "captchaLength = 5"
      ],
      "execution_count": 0,
      "outputs": []
    },
    {
      "metadata": {
        "id": "yTVyllgzbEcX",
        "colab_type": "code",
        "colab": {}
      },
      "cell_type": "code",
      "source": [
        "\n",
        "def generateRandString(length):\n",
        "    # return ''.join(choice(ascii_uppercase) for i in range(length))\n",
        "    return ''.join(choice(digits) for i in range(length))\n",
        "\n",
        "\n",
        "def generateCaptcha(input):\n",
        "    c = Claptcha(str(input), \"DroidSansMono.ttf\")\n",
        "    text, image = c.image\n",
        "    text, bytes = c.bytes\n",
        "    text, file = c.write('captchas/' + str(input) + '.png')\n",
        "    return\n",
        "\n",
        "\n",
        "def generateCaptchaFamily(amount, length):\n",
        "    i = 0\n",
        "    print('generating ' + str(amount) + ' test files ...')\n",
        "    while i < amount:\n",
        "        i += 1\n",
        "        print(str(i/amount*100) + ' % complete' , end='')\n",
        "        print(str, end='\\r') \n",
        "        sys.stdout.flush()\n",
        "        randString = generateRandString(length)\n",
        "        generateCaptcha(randString)\n",
        "\n",
        "\n",
        "def generateTestFiles():\n",
        "    i = 0\n",
        "    amountFiles = 100\n",
        "    while i < amountFiles:\n",
        "        i += 1\n",
        "        randString = generateRandString(captchaLength)\n",
        "        try:\n",
        "            generateCaptcha(randString)\n",
        "            print(str(i) + '/' + str(amountFiles) + ' files generated')\n",
        "            \n",
        "        except:\n",
        "            print('error while generating captcha')\n",
        "\n",
        "\n",
        "def crop(image_path, coords, img_name):\n",
        "    image_obj = Image.open(image_path)\n",
        "    cropped_image = image_obj.crop(coords)\n",
        "    cropped_image.save(img_name)\n",
        "    # cropped_image.show()\n",
        "\n",
        "\n",
        "def extracktNumbersFromImage(image, number):\n",
        "    digits = [int(d) for d in str(number)]\n",
        "    crop(image, (offset, 0, imgXorigin - offset, imgYorigin), 'test_img.png')\n",
        "\n",
        "    for (key, digit) in enumerate(digits):\n",
        "        startX = (imgX / captchaLength) * key\n",
        "        cutoffX = (imgX / captchaLength) * (key + 1)\n",
        "        savePath = './numbers/' + str(digit) + '/'\n",
        "        savePath = './images/'\n",
        "        path, dirs, files = next(os.walk(savePath))\n",
        "        file_count = len(files)\n",
        "        crop('test_img.png', (startX, 0, cutoffX, imgY), savePath + '/' + str(digit) + '_' + str(file_count + 10000) + '.png')\n",
        "\n",
        "\n",
        "def generateNumbers():\n",
        "    path, dirs, files = next(os.walk(captchasDir))\n",
        "    for file in files:\n",
        "        numberString = str(file.title()[:captchaLength])\n",
        "        filePath = str(captchasDir + file.format())\n",
        "\n",
        "        if not file.startswith('.'):\n",
        "            print(numberString)\n",
        "            print(filePath)\n",
        "            \n",
        "            extracktNumbersFromImage(filePath, numberString)\n",
        "\n",
        "                       \n",
        "\n",
        "def getStarted():\n",
        "    generateCaptchaFamily(10000, captchaLength)\n",
        "    generateNumbers()\n",
        "\n",
        "# getStarted()"
      ],
      "execution_count": 0,
      "outputs": []
    },
    {
      "metadata": {
        "id": "YdpQzlo13AWH",
        "colab_type": "code",
        "colab": {
          "base_uri": "https://localhost:8080/",
          "height": 34
        },
        "outputId": "e2abefbd-ed18-4c69-984d-efab40179ae1"
      },
      "cell_type": "code",
      "source": [
        "# !rm ./images/*\n"
      ],
      "execution_count": 56,
      "outputs": [
        {
          "output_type": "stream",
          "text": [
            "rm: cannot remove './images/models': Is a directory\n"
          ],
          "name": "stdout"
        }
      ]
    },
    {
      "metadata": {
        "id": "pdz8E4hLbF_Z",
        "colab_type": "code",
        "colab": {
          "base_uri": "https://localhost:8080/",
          "height": 85
        },
        "outputId": "05e6624a-9af0-4306-d8a4-b4a3e57880c4"
      },
      "cell_type": "code",
      "source": [
        "! ls ./images/ | head -10"
      ],
      "execution_count": 13,
      "outputs": [
        {
          "output_type": "stream",
          "text": [
            "0_10008.png\n",
            "0_10013.png\n",
            "0_10029.png\n",
            "0_10032.png\n"
          ],
          "name": "stdout"
        }
      ]
    },
    {
      "metadata": {
        "id": "Zm6Z1XtP5yDr",
        "colab_type": "code",
        "colab": {}
      },
      "cell_type": "code",
      "source": [
        "from fastai.vision import *\n",
        "from fastai.imports import *\n",
        "from sklearn.utils import shuffle\n",
        "import imageio"
      ],
      "execution_count": 0,
      "outputs": []
    },
    {
      "metadata": {
        "id": "ewdlZiXS6EPD",
        "colab_type": "code",
        "colab": {
          "base_uri": "https://localhost:8080/",
          "height": 269
        },
        "outputId": "54cbc25f-828c-487d-a847-38feb14faf1f"
      },
      "cell_type": "code",
      "source": [
        "plt.imshow(imageio.imread(\"./images/0_10008.png\"))\n",
        "plt.show()"
      ],
      "execution_count": 43,
      "outputs": [
        {
          "output_type": "display_data",
          "data": {
            "image/png": "[encoded data removed]",
            "text/plain": [
              "<Figure size 432x288 with 1 Axes>"
            ]
          },
          "metadata": {
            "tags": []
          }
        }
      ]
    },
    {
      "metadata": {
        "id": "r8ViiR0O4RRh",
        "colab_type": "code",
        "colab": {}
      },
      "cell_type": "code",
      "source": [
        "fnames = get_image_files(\"./images\")\n",
        "pat = r'/([^/]+)_\\d+.png$'\n",
        "tfms = get_transforms(do_flip=False)"
      ],
      "execution_count": 0,
      "outputs": []
    },
    {
      "metadata": {
        "id": "jRyXEP934T5X",
        "colab_type": "code",
        "colab": {
          "base_uri": "https://localhost:8080/",
          "height": 306
        },
        "outputId": "3ad04c33-8d2e-4da0-bde7-be4a59c1f000"
      },
      "cell_type": "code",
      "source": [
        "data = ImageDataBunch.from_name_re(\"./images\", fnames, pat, ds_tfms=tfms)\n",
        "data.normalize(imagenet_stats)"
      ],
      "execution_count": 45,
      "outputs": [
        {
          "output_type": "execute_result",
          "data": {
            "text/plain": [
              "ImageDataBunch;\n",
              "\n",
              "Train: LabelList (37912 items)\n",
              "x: ImageList\n",
              "Image (3, 80, 34),Image (3, 80, 34),Image (3, 80, 34),Image (3, 80, 34),Image (3, 80, 34)\n",
              "y: CategoryList\n",
              "7,8,3,2,4\n",
              "Path: images;\n",
              "\n",
              "Valid: LabelList (9478 items)\n",
              "x: ImageList\n",
              "Image (3, 80, 34),Image (3, 80, 34),Image (3, 80, 34),Image (3, 80, 34),Image (3, 80, 34)\n",
              "y: CategoryList\n",
              "1,7,8,8,4\n",
              "Path: images;\n",
              "\n",
              "Test: None"
            ]
          },
          "metadata": {
            "tags": []
          },
          "execution_count": 45
        }
      ]
    },
    {
      "metadata": {
        "id": "KYhDXIiS4dNv",
        "colab_type": "code",
        "colab": {
          "base_uri": "https://localhost:8080/",
          "height": 441
        },
        "outputId": "9d473449-e473-4379-9d5b-3ae9ae1d9bb0"
      },
      "cell_type": "code",
      "source": [
        "data.show_batch(rows=3, figsize=(7,6))"
      ],
      "execution_count": 46,
      "outputs": [
        {
          "output_type": "display_data",
          "data": {
            "image/png": "[encoded data removed]",
            "text/plain": [
              "<Figure size 504x432 with 9 Axes>"
            ]
          },
          "metadata": {
            "tags": []
          }
        }
      ]
    },
    {
      "metadata": {
        "id": "JHQvX5h_4iB7",
        "colab_type": "code",
        "colab": {
          "base_uri": "https://localhost:8080/",
          "height": 34
        },
        "outputId": "d5f98c42-3a71-415e-fa9c-3aba7a534e4b"
      },
      "cell_type": "code",
      "source": [
        "data.classes"
      ],
      "execution_count": 19,
      "outputs": [
        {
          "output_type": "execute_result",
          "data": {
            "text/plain": [
              "['0', '1', '2', '3', '4', '5', '6', '7', '8', '9']"
            ]
          },
          "metadata": {
            "tags": []
          },
          "execution_count": 19
        }
      ]
    },
    {
      "metadata": {
        "id": "HDVwPJyl4lUm",
        "colab_type": "code",
        "colab": {}
      },
      "cell_type": "code",
      "source": [
        "learn = cnn_learner(data, models.resnet18, metrics=error_rate)"
      ],
      "execution_count": 0,
      "outputs": []
    },
    {
      "metadata": {
        "id": "6gz1OBU94n9O",
        "colab_type": "code",
        "colab": {
          "base_uri": "https://localhost:8080/",
          "height": 80
        },
        "outputId": "8d46289c-6f60-412a-c8ca-6674a0bf522a"
      },
      "cell_type": "code",
      "source": [
        "learn.fit_one_cycle(1)"
      ],
      "execution_count": 21,
      "outputs": [
        {
          "output_type": "display_data",
          "data": {
            "text/html": [
              "<table border=\"1\" class=\"dataframe\">\n",
              "  <thead>\n",
              "    <tr style=\"text-align: left;\">\n",
              "      <th>epoch</th>\n",
              "      <th>train_loss</th>\n",
              "      <th>valid_loss</th>\n",
              "      <th>error_rate</th>\n",
              "      <th>time</th>\n",
              "    </tr>\n",
              "  </thead>\n",
              "  <tbody>\n",
              "    <tr>\n",
              "      <td>0</td>\n",
              "      <td>0.378766</td>\n",
              "      <td>0.241826</td>\n",
              "      <td>0.081768</td>\n",
              "      <td>00:59</td>\n",
              "    </tr>\n",
              "  </tbody>\n",
              "</table>"
            ],
            "text/plain": [
              "<IPython.core.display.HTML object>"
            ]
          },
          "metadata": {
            "tags": []
          }
        }
      ]
    },
    {
      "metadata": {
        "id": "GPHotDxW4pRg",
        "colab_type": "code",
        "colab": {
          "base_uri": "https://localhost:8080/",
          "height": 300
        },
        "outputId": "774fb7bc-4e0d-46cb-e6ce-b644e55780cf"
      },
      "cell_type": "code",
      "source": [
        "learn.lr_find()\n",
        "learn.recorder.plot()"
      ],
      "execution_count": 48,
      "outputs": [
        {
          "output_type": "display_data",
          "data": {
            "text/html": [
              ""
            ],
            "text/plain": [
              "<IPython.core.display.HTML object>"
            ]
          },
          "metadata": {
            "tags": []
          }
        },
        {
          "output_type": "stream",
          "text": [
            "LR Finder is complete, type {learner_name}.recorder.plot() to see the graph.\n"
          ],
          "name": "stdout"
        },
        {
          "output_type": "display_data",
          "data": {
            "image/png": "[encoded data removed]",
            "text/plain": [
              "<Figure size 432x288 with 1 Axes>"
            ]
          },
          "metadata": {
            "tags": []
          }
        }
      ]
    },
    {
      "metadata": {
        "id": "KQF3LStX4t8Y",
        "colab_type": "code",
        "colab": {
          "base_uri": "https://localhost:8080/",
          "height": 111
        },
        "outputId": "57197980-b4b5-4fce-89a0-a57283205ae8"
      },
      "cell_type": "code",
      "source": [
        "learn.unfreeze()\n",
        "learn.fit_one_cycle(2, max_lr=slice(1e-3,  1e-1))"
      ],
      "execution_count": 49,
      "outputs": [
        {
          "output_type": "display_data",
          "data": {
            "text/html": [
              "<table border=\"1\" class=\"dataframe\">\n",
              "  <thead>\n",
              "    <tr style=\"text-align: left;\">\n",
              "      <th>epoch</th>\n",
              "      <th>train_loss</th>\n",
              "      <th>valid_loss</th>\n",
              "      <th>error_rate</th>\n",
              "      <th>time</th>\n",
              "    </tr>\n",
              "  </thead>\n",
              "  <tbody>\n",
              "    <tr>\n",
              "      <td>0</td>\n",
              "      <td>0.659066</td>\n",
              "      <td>0.285498</td>\n",
              "      <td>0.019308</td>\n",
              "      <td>01:00</td>\n",
              "    </tr>\n",
              "    <tr>\n",
              "      <td>1</td>\n",
              "      <td>0.037806</td>\n",
              "      <td>0.013746</td>\n",
              "      <td>0.001688</td>\n",
              "      <td>01:00</td>\n",
              "    </tr>\n",
              "  </tbody>\n",
              "</table>"
            ],
            "text/plain": [
              "<IPython.core.display.HTML object>"
            ]
          },
          "metadata": {
            "tags": []
          }
        }
      ]
    },
    {
      "metadata": {
        "id": "Cirueht45WDy",
        "colab_type": "code",
        "colab": {
          "base_uri": "https://localhost:8080/",
          "height": 142
        },
        "outputId": "2b0eb9de-661e-471b-be33-ad61887a811a"
      },
      "cell_type": "code",
      "source": [
        "learn.fit_one_cycle(3, max_lr=slice(1e-6,  1e-3))"
      ],
      "execution_count": 24,
      "outputs": [
        {
          "output_type": "display_data",
          "data": {
            "text/html": [
              "<table border=\"1\" class=\"dataframe\">\n",
              "  <thead>\n",
              "    <tr style=\"text-align: left;\">\n",
              "      <th>epoch</th>\n",
              "      <th>train_loss</th>\n",
              "      <th>valid_loss</th>\n",
              "      <th>error_rate</th>\n",
              "      <th>time</th>\n",
              "    </tr>\n",
              "  </thead>\n",
              "  <tbody>\n",
              "    <tr>\n",
              "      <td>0</td>\n",
              "      <td>0.035741</td>\n",
              "      <td>0.012503</td>\n",
              "      <td>0.001583</td>\n",
              "      <td>01:02</td>\n",
              "    </tr>\n",
              "    <tr>\n",
              "      <td>1</td>\n",
              "      <td>0.035679</td>\n",
              "      <td>0.009455</td>\n",
              "      <td>0.001266</td>\n",
              "      <td>01:01</td>\n",
              "    </tr>\n",
              "    <tr>\n",
              "      <td>2</td>\n",
              "      <td>0.026721</td>\n",
              "      <td>0.009420</td>\n",
              "      <td>0.001688</td>\n",
              "      <td>01:03</td>\n",
              "    </tr>\n",
              "  </tbody>\n",
              "</table>"
            ],
            "text/plain": [
              "<IPython.core.display.HTML object>"
            ]
          },
          "metadata": {
            "tags": []
          }
        }
      ]
    },
    {
      "metadata": {
        "id": "GXS0cm_Z5W01",
        "colab_type": "code",
        "colab": {}
      },
      "cell_type": "code",
      "source": [
        "interp=ClassificationInterpretation.from_learner(learn)"
      ],
      "execution_count": 0,
      "outputs": []
    },
    {
      "metadata": {
        "id": "RVA19xKG5Ykg",
        "colab_type": "code",
        "colab": {
          "base_uri": "https://localhost:8080/",
          "height": 663
        },
        "outputId": "99d41c2b-e2c3-4f43-b135-35f680524ee7"
      },
      "cell_type": "code",
      "source": [
        "interp.plot_top_losses(9, figsize=(10, 10))"
      ],
      "execution_count": 52,
      "outputs": [
        {
          "output_type": "display_data",
          "data": {
            "image/png": "[encoded data removed]",
            "text/plain": [
              "<Figure size 720x720 with 9 Axes>"
            ]
          },
          "metadata": {
            "tags": []
          }
        }
      ]
    },
    {
      "metadata": {
        "id": "Ikcv5LYf6WcN",
        "colab_type": "code",
        "colab": {
          "base_uri": "https://localhost:8080/",
          "height": 311
        },
        "outputId": "c4d64e89-1416-465f-aa4e-550e49263d8e"
      },
      "cell_type": "code",
      "source": [
        "interp.plot_confusion_matrix()"
      ],
      "execution_count": 53,
      "outputs": [
        {
          "output_type": "display_data",
          "data": {
            "image/png": "[encoded data removed]",
            "text/plain": [
              "<Figure size 432x288 with 1 Axes>"
            ]
          },
          "metadata": {
            "tags": []
          }
        }
      ]
    },
    {
      "metadata": {
        "id": "X5Fb6UwzLirD",
        "colab_type": "code",
        "colab": {
          "base_uri": "https://localhost:8080/",
          "height": 102
        },
        "outputId": "abc2da3b-f39a-4097-e574-efa4c372456a"
      },
      "cell_type": "code",
      "source": [
        "### test captchas\n",
        "#!rm captchas/*\n",
        "#!mkdir captchas/fragments\n",
        "!rm captchas/fragments/*\n",
        "\n",
        "from PIL import Image\n",
        "import urllib.request\n",
        "\n",
        "\n",
        "captchasDir = 'captchas/'\n",
        "imgXorigin = 200\n",
        "imgYorigin = 80\n",
        "offset = 15\n",
        "imgX = imgXorigin - (2 * offset)\n",
        "imgY = imgYorigin\n",
        "captchaLength = 5\n",
        "\n",
        "\n",
        "\n",
        "def extracktFragmentsFromImage(image):\n",
        "    crop(image, (offset, 0, imgXorigin - offset, imgYorigin), 'test_img.png')\n",
        "    for element in range(5):\n",
        "        startX = (imgX / captchaLength) * element\n",
        "        cutoffX = (imgX / captchaLength) * (element + 1)\n",
        "        savePath = './captchas/fragments/'\n",
        "        path, dirs, files = next(os.walk(savePath))\n",
        "        file_count = len(files)\n",
        "        crop('test_img.png', (startX, 0, cutoffX, imgY), savePath + 'img_' + str(element) + '.png')\n",
        "\n",
        "\n",
        "def decryptFragments():\n",
        "    for file in sorted(os.listdir(\"./captchas/fragments/\")):\n",
        "      preds=learn.predict(open_image(\"./captchas/fragments/\" + file))\n",
        "      print(preds[0])\n",
        "      # now decrypt file\n",
        "\n",
        "def decryptCaptcha(filepath):\n",
        "  extracktFragmentsFromImage(filepath)\n",
        "  decryptFragments()\n",
        "  \n",
        "\n",
        "  \n",
        "  \n",
        "\n",
        "# captchaCode = 30012 #has to have five digits\n",
        "# generateCaptcha(captchaCode)\n",
        "# decryptCaptcha('./captchas/' + str(captchaCode) + '.png')\n",
        "\n",
        "# decrypt captcha from URL\n",
        "urllib.request.urlretrieve(\"https://inprocess.xyz/captchas/1040968237699193057.png\", \"test_file.png\")\n",
        "decryptCaptcha('./test_file.png')\n",
        "\n",
        "\n",
        "\n",
        "# some test files are on https://inprocess.xyz/captchas\n"
      ],
      "execution_count": 93,
      "outputs": [
        {
          "output_type": "stream",
          "text": [
            "7\n",
            "6\n",
            "6\n",
            "4\n",
            "8\n"
          ],
          "name": "stdout"
        }
      ]
    }
  ]
}